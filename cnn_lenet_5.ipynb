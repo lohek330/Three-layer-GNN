{
 "cells": [
  {
   "cell_type": "code",
   "execution_count": 161,
   "metadata": {},
   "outputs": [],
   "source": [
    "import tensorflow as tf\n",
    "import numpy as np\n",
    "from tensorflow.keras.layers import Conv2D , AveragePooling2D , Dense, Flatten\n",
    "from tensorflow.keras.models import Sequential\n",
    "from tensorflow.keras.datasets import mnist # for loading the dataset\n",
    "from tensorflow.keras.utils import to_categorical \n",
    "import matplotlib.pyplot as plt # for plotting the images\n",
    "import os, time"
   ]
  },
  {
   "cell_type": "code",
   "execution_count": 180,
   "metadata": {},
   "outputs": [
    {
     "name": "stdout",
     "output_type": "stream",
     "text": [
      "Python version:  3.6.5 |Anaconda, Inc.| (default, Mar 29 2018, 13:32:41) [MSC v.1900 64 bit (AMD64)]\n",
      "Tensorflow version:  2.4.0\n",
      "Numpy version:  1.19.5\n",
      "Matplotlib version:  3.1.0\n"
     ]
    }
   ],
   "source": [
    "import sys, matplotlib\n",
    "print (\"Python version: \", sys.version)\n",
    "print(\"Tensorflow version: \", tf.__version__)\n",
    "print(\"Numpy version: \", np.__version__)\n",
    "print(\"Matplotlib version: \", matplotlib.__version__)"
   ]
  },
  {
   "cell_type": "code",
   "execution_count": 162,
   "metadata": {},
   "outputs": [],
   "source": [
    "(x_train , y_train) ,( x_test, y_test) = mnist.load_data()"
   ]
  },
  {
   "cell_type": "code",
   "execution_count": 163,
   "metadata": {},
   "outputs": [],
   "source": [
    "#data preprocessing\n",
    "x_train = np.pad(x_train,((0,0),(2,2),(2,2))) #padding from 28*28 to 32*32\n",
    "x_test = np.pad(x_test,((0,0),(2,2),(2,2)))\n",
    "x_train = x_train/255.0 # Normalizing the values from 0-255 to 0-1\n",
    "x_test = x_test/255.0\n",
    "y_train=to_categorical(y_train,10) # converting labels into one-hot, easier for classification\n",
    "y_test=to_categorical(y_test,10)"
   ]
  },
  {
   "cell_type": "code",
   "execution_count": 164,
   "metadata": {},
   "outputs": [
    {
     "name": "stdout",
     "output_type": "stream",
     "text": [
      "Training set size: 60000, with dimension 32 * 32\n",
      "Test set size: 10000, with dimension 32 * 32\n"
     ]
    }
   ],
   "source": [
    "print(\"Training set size: {}, with dimension {} * {}\".format(x_train.shape[0], x_train.shape[1], x_train.shape[2]))\n",
    "print(\"Test set size: {}, with dimension {} * {}\".format(x_test.shape[0], x_test.shape[1], x_test.shape[2]))"
   ]
  },
  {
   "cell_type": "code",
   "execution_count": 165,
   "metadata": {},
   "outputs": [
    {
     "data": {
      "image/png": "[encoded data removed]",
      "text/plain": [
       "<Figure size 432x288 with 1 Axes>"
      ]
     },
     "metadata": {
      "needs_background": "light"
     },
     "output_type": "display_data"
    },
    {
     "name": "stdout",
     "output_type": "stream",
     "text": [
      "Answer: 1\n"
     ]
    }
   ],
   "source": [
    "example = 105\n",
    "plt.imshow(x_train[example],cmap='gray')\n",
    "plt.show()\n",
    "print(\"Answer: {}\".format(np.where(y_train[example] == 1)[0][0]))"
   ]
  },
  {
   "cell_type": "code",
   "execution_count": 166,
   "metadata": {},
   "outputs": [],
   "source": [
    "x_train_3d=np.expand_dims(x_train,3) #expand dimension from 32*32 to 32*32*1\n",
    "x_test_3d=np.expand_dims(x_test,3)"
   ]
  },
  {
   "cell_type": "code",
   "execution_count": 167,
   "metadata": {},
   "outputs": [],
   "source": [
    "#build the cnn LeNet-5 architecture\n",
    "cnn = Sequential(name=\"LeNet-5\")\n",
    "# Convolution Layer1\n",
    "cnn.add(Conv2D(6,(5,5),strides=(1,1), activation='tanh',input_shape=(32, 32, 1), name='C1')) # C1\n",
    "# Average Subsampling\n",
    "cnn.add(AveragePooling2D(name='S2'))# S2\n",
    "# Convolution Layer2\n",
    "cnn.add(Conv2D(16,(5,5),strides=(1,1),activation='tanh',name='C3')) #C3\n",
    "# Average Subsampling\n",
    "cnn.add(AveragePooling2D(name='S4')) #S4\n",
    "# Flatten Layer\n",
    "cnn.add(Flatten()) #transform its input to a 1-dimensional array\n",
    "#Fully Connected Layer\n",
    "cnn.add(Dense(120,activation='tanh',name='FC5')) #FC5\n",
    "cnn.add(Dense(84,activation='tanh',name='FC6')) #FC6\n",
    "cnn.add(Dense(10,activation='softmax',name='Output')) #FC7"
   ]
  },
  {
   "cell_type": "code",
   "execution_count": 168,
   "metadata": {},
   "outputs": [],
   "source": [
    "cnn.compile(optimizer='adam',loss='categorical_crossentropy',metrics=['accuracy'])"
   ]
  },
  {
   "cell_type": "code",
   "execution_count": 169,
   "metadata": {},
   "outputs": [
    {
     "name": "stdout",
     "output_type": "stream",
     "text": [
      "Model: \"LeNet-5\"\n",
      "_________________________________________________________________\n",
      "Layer (type)                 Output Shape              Param #   \n",
      "=================================================================\n",
      "C1 (Conv2D)                  (None, 28, 28, 6)         156       \n",
      "_________________________________________________________________\n",
      "S2 (AveragePooling2D)        (None, 14, 14, 6)         0         \n",
      "_________________________________________________________________\n",
      "C3 (Conv2D)                  (None, 10, 10, 16)        2416      \n",
      "_________________________________________________________________\n",
      "S4 (AveragePooling2D)        (None, 5, 5, 16)          0         \n",
      "_________________________________________________________________\n",
      "flatten_13 (Flatten)         (None, 400)               0         \n",
      "_________________________________________________________________\n",
      "FC5 (Dense)                  (None, 120)               48120     \n",
      "_________________________________________________________________\n",
      "FC6 (Dense)                  (None, 84)                10164     \n",
      "_________________________________________________________________\n",
      "Output (Dense)               (None, 10)                850       \n",
      "=================================================================\n",
      "Total params: 61,706\n",
      "Trainable params: 61,706\n",
      "Non-trainable params: 0\n",
      "_________________________________________________________________\n",
      "None\n"
     ]
    }
   ],
   "source": [
    "print(cnn.summary())"
   ]
  },
  {
   "cell_type": "code",
   "execution_count": 170,
   "metadata": {},
   "outputs": [],
   "source": [
    "root_logdir = os.path.join(os.curdir, \"logs\\\\fit\\\\\")\n",
    "\n",
    "def get_run_logdir():\n",
    "    run_id = time.strftime(\"run_%Y_%m_%d-%H_%M_%S\")\n",
    "    return os.path.join(root_logdir, run_id)\n",
    "\n",
    "run_logdir = get_run_logdir()\n",
    "tensorboard_cb = tf.keras.callbacks.TensorBoard(run_logdir)"
   ]
  },
  {
   "cell_type": "code",
   "execution_count": 171,
   "metadata": {},
   "outputs": [
    {
     "name": "stdout",
     "output_type": "stream",
     "text": [
      "Epoch 1/10\n",
      "1875/1875 [==============================] - 45s 23ms/step - loss: 0.4145 - accuracy: 0.8769 - val_loss: 0.1073 - val_accuracy: 0.9669\n",
      "Epoch 2/10\n",
      "1875/1875 [==============================] - 40s 22ms/step - loss: 0.0974 - accuracy: 0.9697 - val_loss: 0.0753 - val_accuracy: 0.9771\n",
      "Epoch 3/10\n",
      "1875/1875 [==============================] - 40s 21ms/step - loss: 0.0626 - accuracy: 0.9801 - val_loss: 0.0673 - val_accuracy: 0.9783\n",
      "Epoch 4/10\n",
      "1875/1875 [==============================] - 39s 21ms/step - loss: 0.0457 - accuracy: 0.9853 - val_loss: 0.0526 - val_accuracy: 0.9817\n",
      "Epoch 5/10\n",
      "1875/1875 [==============================] - 38s 21ms/step - loss: 0.0357 - accuracy: 0.9883 - val_loss: 0.0515 - val_accuracy: 0.9841\n",
      "Epoch 6/10\n",
      "1875/1875 [==============================] - 38s 20ms/step - loss: 0.0292 - accuracy: 0.9906 - val_loss: 0.0555 - val_accuracy: 0.9819\n",
      "Epoch 7/10\n",
      "1875/1875 [==============================] - 39s 21ms/step - loss: 0.0249 - accuracy: 0.9913 - val_loss: 0.0567 - val_accuracy: 0.9833\n",
      "Epoch 8/10\n",
      "1875/1875 [==============================] - 39s 21ms/step - loss: 0.0194 - accuracy: 0.9938 - val_loss: 0.0555 - val_accuracy: 0.9838\n",
      "Epoch 9/10\n",
      "1875/1875 [==============================] - 38s 20ms/step - loss: 0.0196 - accuracy: 0.9939 - val_loss: 0.0572 - val_accuracy: 0.9835\n",
      "Epoch 10/10\n",
      "1875/1875 [==============================] - 39s 21ms/step - loss: 0.0163 - accuracy: 0.9948 - val_loss: 0.0542 - val_accuracy: 0.9851\n"
     ]
    },
    {
     "data": {
      "text/plain": [
       "<tensorflow.python.keras.callbacks.History at 0x2315a98a748>"
      ]
     },
     "execution_count": 171,
     "metadata": {},
     "output_type": "execute_result"
    }
   ],
   "source": [
    "cnn.fit(x_train_3d,y_train,epochs=10, batch_size=32, validation_data=(x_test_3d, y_test), callbacks=[tensorboard_cb])"
   ]
  },
  {
   "cell_type": "code",
   "execution_count": 172,
   "metadata": {},
   "outputs": [
    {
     "name": "stdout",
     "output_type": "stream",
     "text": [
      "313/313 [==============================] - 3s 9ms/step - loss: 0.0542 - accuracy: 0.9851\n",
      "Test Accuracy:  0.9850999712944031\n"
     ]
    }
   ],
   "source": [
    "_,acc=cnn.evaluate(x_test_3d,y_test)\n",
    "print(\"Test Accuracy: \", acc)"
   ]
  },
  {
   "cell_type": "code",
   "execution_count": 173,
   "metadata": {},
   "outputs": [],
   "source": [
    "predictions = cnn.predict(x_test_3d)"
   ]
  },
  {
   "cell_type": "code",
   "execution_count": 174,
   "metadata": {},
   "outputs": [
    {
     "data": {
      "image/png": "[encoded data removed]",
      "text/plain": [
       "<Figure size 432x288 with 1 Axes>"
      ]
     },
     "metadata": {
      "needs_background": "light"
     },
     "output_type": "display_data"
    },
    {
     "name": "stdout",
     "output_type": "stream",
     "text": [
      "Test Answer:  6\n",
      "Real Answer:  6\n"
     ]
    }
   ],
   "source": [
    "test_result = 100\n",
    "plt.imshow(x_test[test_result],cmap=plt.cm.binary)\n",
    "plt.show()\n",
    "print(\"Test Answer: \", np.argmax(predictions[test_result]))\n",
    "print(\"Real Answer: \", np.where(y_test[test_result] == 1)[0][0])"
   ]
  },
  {
   "cell_type": "code",
   "execution_count": null,
   "metadata": {},
   "outputs": [],
   "source": []
  }
 ],
 "metadata": {
  "kernelspec": {
   "display_name": "Python 3",
   "language": "python",
   "name": "python3"
  },
  "language_info": {
   "codemirror_mode": {
    "name": "ipython",
    "version": 3
   },
   "file_extension": ".py",
   "mimetype": "text/x-python",
   "name": "python",
   "nbconvert_exporter": "python",
   "pygments_lexer": "ipython3",
   "version": "3.6.5"
  }
 },
 "nbformat": 4,
 "nbformat_minor": 2
}
